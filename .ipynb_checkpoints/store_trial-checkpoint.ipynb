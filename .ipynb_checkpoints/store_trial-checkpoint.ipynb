{
 "cells": [
  {
   "cell_type": "markdown",
   "id": "8e167111-6281-4963-b29b-f263b8cadc50",
   "metadata": {},
   "source": [
    "## Easiest Method"
   ]
  },
  {
   "cell_type": "code",
   "execution_count": 4,
   "id": "bcad1062-957d-4a76-b164-f7abac85db09",
   "metadata": {},
   "outputs": [
    {
     "name": "stdout",
     "output_type": "stream",
     "text": [
      "[''] count: 1\n",
      "['6651', '5889', '1072', '0616', '6616', '0663', '6632', '6875', '6661', '6614', '6670', '1087', '0683', '0607', '6645', '2304', '0620', '6627', '8563', '6611', '6644', '0665', '2101', '6304', '6971'] count: 25\n",
      "[''] count: 1\n"
     ]
    }
   ],
   "source": [
    "with open('store.txt') as input_file:\n",
    "    for line in input_file:\n",
    "        line=line.rstrip().split(',')\n",
    "        print(line,'count:',len(line))"
   ]
  },
  {
   "cell_type": "code",
   "execution_count": null,
   "id": "d63ba849-772c-4544-8598-ad6174fbab77",
   "metadata": {},
   "outputs": [],
   "source": []
  },
  {
   "cell_type": "markdown",
   "id": "e98f4cd6-8efe-4381-b0d6-4d4811313301",
   "metadata": {},
   "source": [
    "## Easiest Method 1"
   ]
  },
  {
   "cell_type": "code",
   "execution_count": 6,
   "id": "1cfec5aa-6b8b-4f1f-bcd3-644b9739cd24",
   "metadata": {},
   "outputs": [
    {
     "name": "stdout",
     "output_type": "stream",
     "text": [
      "['6651', '5889', '1072', '0616', '6616', '0663', '6632', '6875', '6661', '6614', '6670', '1087', '0683', '0607', '6645', '2304', '0620', '6627', '8563', '6611', '6644', '0665', '2101', '6304', '6971'] count: 25\n"
     ]
    }
   ],
   "source": [
    "with open('store.txt') as input_file:\n",
    "    for line in input_file:\n",
    "        line=line.rstrip().split(',')\n",
    "        if len(line)<2:\n",
    "            continue\n",
    "        print(line,'count:',len(line))"
   ]
  },
  {
   "cell_type": "code",
   "execution_count": null,
   "id": "abefee82-1844-40ea-b43b-afa5fbed6864",
   "metadata": {},
   "outputs": [],
   "source": []
  },
  {
   "cell_type": "markdown",
   "id": "2be63611-a719-4a93-9483-ed996b268329",
   "metadata": {},
   "source": [
    "### Basic Method"
   ]
  },
  {
   "cell_type": "code",
   "execution_count": 7,
   "id": "17fcae2e-b1f1-48cd-b19b-3b81de305f0a",
   "metadata": {},
   "outputs": [
    {
     "name": "stdout",
     "output_type": "stream",
     "text": [
      "6651 count: 1\n",
      "5889 count: 2\n",
      "1072 count: 3\n",
      "0616 count: 4\n",
      "6616 count: 5\n",
      "0663 count: 6\n",
      "6632 count: 7\n",
      "6875 count: 8\n",
      "6661 count: 9\n",
      "6614 count: 10\n",
      "6670 count: 11\n",
      "1087 count: 12\n",
      "0683 count: 13\n",
      "0607 count: 14\n",
      "6645 count: 15\n",
      "2304 count: 16\n",
      "0620 count: 17\n",
      "6627 count: 18\n",
      "8563 count: 19\n",
      "6611 count: 20\n",
      "6644 count: 21\n",
      "0665 count: 22\n",
      "2101 count: 23\n",
      "6304 count: 24\n",
      "6971 count: 25\n"
     ]
    }
   ],
   "source": [
    "with open('store.txt') as input_file:\n",
    "    count=0\n",
    "    for line in input_file:\n",
    "        line=line.rstrip().split(',')\n",
    "        #print(line)\n",
    "        if len(line)<2:\n",
    "            continue\n",
    "        #print(line)\n",
    "        for stores in line:\n",
    "            count+=1\n",
    "            print(stores,'count:',count)"
   ]
  },
  {
   "cell_type": "code",
   "execution_count": null,
   "id": "52dd96e3-b6bc-406a-aa90-307a4a8fd215",
   "metadata": {},
   "outputs": [],
   "source": []
  },
  {
   "cell_type": "markdown",
   "id": "fd7958d0-4312-4e1e-833c-fd42df3e4049",
   "metadata": {},
   "source": [
    "### List Method"
   ]
  },
  {
   "cell_type": "code",
   "execution_count": 1,
   "id": "9c02b3f8-69eb-489d-88e0-fe653ece4aac",
   "metadata": {},
   "outputs": [
    {
     "name": "stdout",
     "output_type": "stream",
     "text": [
      "['6651', '5889', '1072', '0616', '6616', '0663', '6632', '6875', '6661', '6614', '6670', '1087', '0683', '0607', '6645', '2304', '0620', '6627', '8563', '6611', '6644', '0665', '2101', '6304', '6971'] count: 25\n"
     ]
    }
   ],
   "source": [
    "with open('store.txt') as fhandle:\n",
    "    list=list()\n",
    "    for line in fhandle:\n",
    "        line=line.rstrip().split(',')\n",
    "        #print(line)\n",
    "        if len(line)<2 or len(line)==1:\n",
    "            continue\n",
    "        #print(line)\n",
    "        for stores in line:\n",
    "            #print(stores)\n",
    "            list.append(stores)\n",
    "        print(list,'count:',len(list))"
   ]
  },
  {
   "cell_type": "code",
   "execution_count": null,
   "id": "06013044-c40d-4c87-860b-e6594ad37017",
   "metadata": {},
   "outputs": [],
   "source": []
  },
  {
   "cell_type": "markdown",
   "id": "3af125b5-69cc-4d5f-a2ff-42d3e3d6526a",
   "metadata": {},
   "source": [
    "### With Dictionary "
   ]
  },
  {
   "cell_type": "code",
   "execution_count": 5,
   "id": "2d1df3b3-b01e-4c40-993c-90b60546ccbc",
   "metadata": {},
   "outputs": [
    {
     "name": "stdout",
     "output_type": "stream",
     "text": [
      "[(1, '8563'), (1, '6971'), (1, '6875'), (1, '6670'), (1, '6661'), (1, '6651'), (1, '6645'), (1, '6644'), (1, '6632'), (1, '6627'), (1, '6616'), (1, '6614'), (1, '6611'), (1, '6304'), (1, '5889'), (1, '2304'), (1, '2101'), (1, '1087'), (1, '1072'), (1, '0683'), (1, '0665'), (1, '0663'), (1, '0620'), (1, '0616'), (1, '0607')] count: 25\n"
     ]
    }
   ],
   "source": [
    "with open('store.txt') as input_file:\n",
    "    dict=dict()\n",
    "    count=0\n",
    "    for line in input_file:\n",
    "        #print(line)\n",
    "        line=line.rstrip().split(',')\n",
    "        #print(line)\n",
    "        if len(line)<2:\n",
    "            continue\n",
    "        #print(line)\n",
    "        for numbers in line:\n",
    "            dict[numbers]=dict.get(numbers,0)+1\n",
    "            count+=1\n",
    "        #print(dict,'count:',count)\n",
    "    list=list()\n",
    "    count=0\n",
    "    for key,value in dict.items():\n",
    "        list.append((value,key))\n",
    "        count+=1\n",
    "    #print(list)\n",
    "        sort=sorted(list,reverse=True)\n",
    "    print(sort,'count:',count)"
   ]
  },
  {
   "cell_type": "code",
   "execution_count": null,
   "id": "2cf6eead-411e-482c-b7de-ad9d4b5683fb",
   "metadata": {},
   "outputs": [],
   "source": []
  }
 ],
 "metadata": {
  "kernelspec": {
   "display_name": "Python 3 (ipykernel)",
   "language": "python",
   "name": "python3"
  },
  "language_info": {
   "codemirror_mode": {
    "name": "ipython",
    "version": 3
   },
   "file_extension": ".py",
   "mimetype": "text/x-python",
   "name": "python",
   "nbconvert_exporter": "python",
   "pygments_lexer": "ipython3",
   "version": "3.11.5"
  }
 },
 "nbformat": 4,
 "nbformat_minor": 5
}
